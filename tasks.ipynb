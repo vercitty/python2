{
 "cells": [
  {
   "cell_type": "code",
   "execution_count": 2,
   "metadata": {},
   "outputs": [
    {
     "name": "stdout",
     "output_type": "stream",
     "text": [
      "enter first number1\n",
      "enter second number10\n",
      "enter third number1\n",
      "10\n"
     ]
    }
   ],
   "source": [
    "l=int(input(\"enter first number\"))\n",
    "r=int(input(\"enter second number\"))\n",
    "k=int(input(\"enter third number\"))\n",
    "a=0\n",
    "for i in range(l,r+1):\n",
    "    if i%k==0:\n",
    "        a=a+1\n",
    "print(a)"
   ]
  },
  {
   "cell_type": "code",
   "execution_count": null,
   "metadata": {},
   "outputs": [],
   "source": [
    "b=input(\"enter your string\")\n",
    "b.swapcase()"
   ]
  },
  {
   "cell_type": "code",
   "execution_count": null,
   "metadata": {},
   "outputs": [],
   "source": [
    "a=int(input(\"enter the no of tasks\"))\n",
    "sh=[]\n",
    "sm=[]\n",
    "eh=[]\n",
    "em=[]\n",
    "for i in range(0,a):\n",
    "    b=int(input(\"enter starting hour\"))\n",
    "    c=int(input(\"enter starting min\"))\n",
    "    d=int(input(\"enter ending hour\"))\n",
    "    e=int(input(\"enter ending min\"))\n",
    "    sh.append(b)\n",
    "    sm.append(c)\n",
    "    eh.append(d)\n",
    "    em.append(e)\n",
    "for i in sh:\n",
    "    x=(eh[i-1]*60+em[i-1])-(sh[i-1]*60+sm[i-1])\n",
    "    if x>59:\n",
    "        print(int(x/60),\":\",x%60)\n",
    "    else:\n",
    "        print(\"0 : \",x)"
   ]
  },
  {
   "cell_type": "code",
   "execution_count": null,
   "metadata": {},
   "outputs": [],
   "source": [
    "194%60"
   ]
  },
  {
   "cell_type": "code",
   "execution_count": 4,
   "metadata": {},
   "outputs": [
    {
     "name": "stdout",
     "output_type": "stream",
     "text": [
      "enter no ele in list5\n",
      "1\n",
      "2\n",
      "3\n",
      "4\n",
      "5\n",
      "[1, 2, 3, 4, 5]\n",
      "enter no of queres3\n",
      "start1\n",
      "end2\n",
      "1\n",
      "start3\n",
      "end5\n",
      "4\n",
      "start1\n",
      "end5\n",
      "3\n"
     ]
    }
   ],
   "source": [
    "a=int(input(\"enter no ele in list\"))\n",
    "l=[]\n",
    "z=0\n",
    "for i in range(0,a):\n",
    "    f=int(input(\"\"))\n",
    "    l.append(f)\n",
    "print(l)\n",
    "b=int(input(\"enter no of queres\"))\n",
    "for i in range(0,b):\n",
    "    c=0\n",
    "    x=int(input(\"start\"))\n",
    "    y=int(input(\"end\"))\n",
    "    z=l.index(x)\n",
    "    d=l.index(y)\n",
    "    print(int(sum(l[z:d+1])/len(l[z:d+1])))\n",
    "\n",
    "    "
   ]
  },
  {
   "cell_type": "code",
   "execution_count": null,
   "metadata": {},
   "outputs": [],
   "source": [
    "z=[1,2,3,4,5]\n",
    "z.index(2)"
   ]
  },
  {
   "cell_type": "code",
   "execution_count": null,
   "metadata": {},
   "outputs": [],
   "source": [
    "round(5.65)"
   ]
  },
  {
   "cell_type": "code",
   "execution_count": null,
   "metadata": {},
   "outputs": [],
   "source": [
    "li=[1,2,34,5]"
   ]
  },
  {
   "cell_type": "code",
   "execution_count": null,
   "metadata": {},
   "outputs": [],
   "source": [
    "len(li[0:3])"
   ]
  },
  {
   "cell_type": "code",
   "execution_count": null,
   "metadata": {},
   "outputs": [],
   "source": []
  }
 ],
 "metadata": {
  "kernelspec": {
   "display_name": "Python 3",
   "language": "python",
   "name": "python3"
  },
  "language_info": {
   "codemirror_mode": {
    "name": "ipython",
    "version": 3
   },
   "file_extension": ".py",
   "mimetype": "text/x-python",
   "name": "python",
   "nbconvert_exporter": "python",
   "pygments_lexer": "ipython3",
   "version": "3.7.3"
  }
 },
 "nbformat": 4,
 "nbformat_minor": 2
}
