{
 "cells": [
  {
   "cell_type": "code",
   "execution_count": null,
   "metadata": {},
   "outputs": [],
   "source": [
    "def leap(a):\n",
    "    if((a%400==0)or(a%4==0 and a%100!=0)):\n",
    "        return True\n",
    "    return False"
   ]
  },
  {
   "cell_type": "code",
   "execution_count": null,
   "metadata": {},
   "outputs": [],
   "source": [
    "leap(2000)"
   ]
  },
  {
   "cell_type": "code",
   "execution_count": null,
   "metadata": {},
   "outputs": [],
   "source": [
    "leap(2004)"
   ]
  },
  {
   "cell_type": "code",
   "execution_count": null,
   "metadata": {},
   "outputs": [],
   "source": [
    "leap(2000)"
   ]
  },
  {
   "cell_type": "code",
   "execution_count": null,
   "metadata": {},
   "outputs": [],
   "source": [
    "a=int(input(\"enter start\"))\n",
    "b=int(input(\"enter end\"))\n",
    "c=0\n",
    "for i in range(a,b+1):\n",
    "    if((i%400==0)or(i%4==0 and i%100!=0)):\n",
    "        c=c+1\n",
    "        print(i) \n",
    "print(c)\n",
    "    "
   ]
  },
  {
   "cell_type": "code",
   "execution_count": null,
   "metadata": {},
   "outputs": [],
   "source": [
    "a=int(input(\"enter a number\"))\n",
    "for i in range(2,int(a/2)):\n",
    "    if(a%i==0):\n",
    "        if(i%2==0):\n",
    "            print(i)"
   ]
  },
  {
   "cell_type": "code",
   "execution_count": null,
   "metadata": {},
   "outputs": [],
   "source": [
    "a=int(input(\"enter start\"))\n",
    "b=int(input(\"enter end\"))\n",
    "for i in range(a,b+1):\n",
    "    c=0\n",
    "    for j in range(2,int(i+1/2)):\n",
    "        if(i%j==0):\n",
    "            c=c+1\n",
    "    if(c==0):\n",
    "        print(i)"
   ]
  },
  {
   "cell_type": "code",
   "execution_count": 2,
   "metadata": {},
   "outputs": [
    {
     "name": "stdout",
     "output_type": "stream",
     "text": [
      "enter start1\n",
      "enter end1000\n",
      "1\n",
      "2\n",
      "3\n",
      "4\n",
      "5\n",
      "6\n",
      "7\n",
      "8\n",
      "9\n",
      "153\n",
      "370\n",
      "371\n",
      "407\n"
     ]
    }
   ],
   "source": [
    "c=int(input(\"enter start\"))\n",
    "b=int(input(\"enter end\"))\n",
    "for i in range(c,b+1):\n",
    "    x=0\n",
    "    a=i\n",
    "    for j in str(a):\n",
    "        x=x+(int(j)**len(str(a)))\n",
    "    if x==int(a):\n",
    "        print(x)\n",
    "    "
   ]
  },
  {
   "cell_type": "code",
   "execution_count": 3,
   "metadata": {},
   "outputs": [],
   "source": [
    "def alll(a,b):\n",
    "    for i in range(a,b):\n",
    "        if(i%6==0 and i%100!=0):\n",
    "            print(i)\n",
    "    "
   ]
  },
  {
   "cell_type": "code",
   "execution_count": 5,
   "metadata": {},
   "outputs": [
    {
     "name": "stdout",
     "output_type": "stream",
     "text": [
      "6\n",
      "12\n",
      "18\n",
      "24\n",
      "30\n",
      "36\n",
      "42\n",
      "48\n",
      "54\n",
      "60\n",
      "66\n",
      "72\n",
      "78\n",
      "84\n",
      "90\n",
      "96\n",
      "102\n",
      "108\n",
      "114\n",
      "120\n",
      "126\n",
      "132\n",
      "138\n",
      "144\n",
      "150\n",
      "156\n",
      "162\n",
      "168\n",
      "174\n",
      "180\n",
      "186\n",
      "192\n",
      "198\n",
      "204\n",
      "210\n",
      "216\n",
      "222\n",
      "228\n",
      "234\n",
      "240\n",
      "246\n",
      "252\n",
      "258\n",
      "264\n",
      "270\n",
      "276\n",
      "282\n",
      "288\n",
      "294\n",
      "306\n",
      "312\n",
      "318\n",
      "324\n",
      "330\n",
      "336\n",
      "342\n",
      "348\n",
      "354\n",
      "360\n",
      "366\n",
      "372\n",
      "378\n",
      "384\n",
      "390\n",
      "396\n",
      "402\n",
      "408\n",
      "414\n",
      "420\n",
      "426\n",
      "432\n",
      "438\n",
      "444\n",
      "450\n",
      "456\n",
      "462\n",
      "468\n",
      "474\n",
      "480\n",
      "486\n",
      "492\n",
      "498\n",
      "504\n",
      "510\n",
      "516\n",
      "522\n",
      "528\n",
      "534\n",
      "540\n",
      "546\n",
      "552\n",
      "558\n",
      "564\n",
      "570\n",
      "576\n",
      "582\n",
      "588\n",
      "594\n",
      "606\n",
      "612\n",
      "618\n",
      "624\n",
      "630\n",
      "636\n",
      "642\n",
      "648\n",
      "654\n",
      "660\n",
      "666\n",
      "672\n",
      "678\n",
      "684\n",
      "690\n",
      "696\n",
      "702\n",
      "708\n",
      "714\n",
      "720\n",
      "726\n",
      "732\n",
      "738\n",
      "744\n",
      "750\n",
      "756\n",
      "762\n",
      "768\n",
      "774\n",
      "780\n",
      "786\n",
      "792\n",
      "798\n",
      "804\n",
      "810\n",
      "816\n",
      "822\n",
      "828\n",
      "834\n",
      "840\n",
      "846\n",
      "852\n",
      "858\n",
      "864\n",
      "870\n",
      "876\n",
      "882\n",
      "888\n",
      "894\n",
      "906\n",
      "912\n",
      "918\n",
      "924\n",
      "930\n",
      "936\n",
      "942\n",
      "948\n",
      "954\n",
      "960\n",
      "966\n",
      "972\n",
      "978\n",
      "984\n",
      "990\n",
      "996\n"
     ]
    }
   ],
   "source": [
    "alll(1,1000)"
   ]
  },
  {
   "cell_type": "code",
   "execution_count": 13,
   "metadata": {},
   "outputs": [
    {
     "name": "stdout",
     "output_type": "stream",
     "text": [
      "1.square pyramid,2.rectangular pyramid2\n",
      "enter the length of rect5\n",
      "enter the breadth of rect6\n",
      "enter the height of prymid3\n",
      "enter the side of the triangle2\n",
      "area =  42.0\n"
     ]
    }
   ],
   "source": [
    "a=int(input(\"1.square pyramid,2.rectangular pyramid\"))\n",
    "if(a==1):\n",
    "    square()\n",
    "if(a==2):\n",
    "    rect()\n"
   ]
  },
  {
   "cell_type": "code",
   "execution_count": 11,
   "metadata": {},
   "outputs": [],
   "source": [
    "def square():\n",
    "    s=int(input(\"enter side of the pyramid\"))\n",
    "    h=int(input(\"enter hight of the pyramid\"))\n",
    "    print(\"area = \",(s*s)+4*(0.5*(s*h)))"
   ]
  },
  {
   "cell_type": "code",
   "execution_count": 12,
   "metadata": {},
   "outputs": [],
   "source": [
    "def rect():\n",
    "    l=int(input(\"enter the length of rect\"))\n",
    "    b=int(input(\"enter the breadth of rect\"))\n",
    "    h=int(input(\"enter the height of prymid\"))\n",
    "    s=int(input(\"enter the side of the triangle\"))\n",
    "    print(\"area = \",l*b+4*(0.5*(s*h)))"
   ]
  },
  {
   "cell_type": "code",
   "execution_count": 17,
   "metadata": {},
   "outputs": [],
   "source": [
    "def cube():\n",
    "    a=int(input(\"lb\"))\n",
    "    b=int(input(\"ub\"))\n",
    "    c=0\n",
    "    d=0\n",
    "    for i in range(a,b+1):\n",
    "        if(i%2==0):\n",
    "            c=+1\n",
    "            d=d+i**3\n",
    "    d=d/c\n",
    "    print(int(d))\n",
    "        "
   ]
  },
  {
   "cell_type": "code",
   "execution_count": 18,
   "metadata": {},
   "outputs": [
    {
     "name": "stdout",
     "output_type": "stream",
     "text": [
      "lb6\n",
      "ub10\n",
      "1728\n"
     ]
    }
   ],
   "source": [
    "cube()"
   ]
  },
  {
   "cell_type": "code",
   "execution_count": 1,
   "metadata": {},
   "outputs": [],
   "source": [
    "def fact():\n",
    "    n=int(input(\"enter a number\"))\n",
    "    for i in range(2,int(n+1/2)):\n",
    "        if(n%i==0):\n",
    "            print(i)"
   ]
  },
  {
   "cell_type": "code",
   "execution_count": 2,
   "metadata": {},
   "outputs": [
    {
     "name": "stdout",
     "output_type": "stream",
     "text": [
      "enter a number15\n",
      "3\n",
      "5\n"
     ]
    }
   ],
   "source": [
    "fact()"
   ]
  },
  {
   "cell_type": "code",
   "execution_count": 42,
   "metadata": {},
   "outputs": [],
   "source": [
    "def factorial(n):\n",
    "    x=1\n",
    "    for i in range(1,n+1):\n",
    "        x=x*i\n",
    "    return x   "
   ]
  },
  {
   "cell_type": "code",
   "execution_count": 4,
   "metadata": {},
   "outputs": [
    {
     "name": "stdout",
     "output_type": "stream",
     "text": [
      "enter a number5\n",
      "120\n"
     ]
    }
   ],
   "source": [
    "factorial()"
   ]
  },
  {
   "cell_type": "code",
   "execution_count": 31,
   "metadata": {},
   "outputs": [],
   "source": [
    "def prime(n):\n",
    "    for i in range(2,int(n/2)+1):\n",
    "        if(n%i==0):\n",
    "            return False\n",
    "    return True\n",
    "    "
   ]
  },
  {
   "cell_type": "code",
   "execution_count": 30,
   "metadata": {},
   "outputs": [
    {
     "data": {
      "text/plain": [
       "False"
      ]
     },
     "execution_count": 30,
     "metadata": {},
     "output_type": "execute_result"
    }
   ],
   "source": [
    "prime(25)"
   ]
  },
  {
   "cell_type": "code",
   "execution_count": 32,
   "metadata": {},
   "outputs": [],
   "source": [
    "def avg():\n",
    "    x=0\n",
    "    a=int(input(\"enter start\"))\n",
    "    b=int(input(\"enter end\"))\n",
    "    for i in range(a,b):\n",
    "        if(prime(i)):\n",
    "            x=x+i\n",
    "    print(x)\n",
    "        \n",
    "    "
   ]
  },
  {
   "cell_type": "code",
   "execution_count": 33,
   "metadata": {},
   "outputs": [
    {
     "name": "stdout",
     "output_type": "stream",
     "text": [
      "enter start50\n",
      "enter end100\n",
      "732\n"
     ]
    }
   ],
   "source": [
    "avg()"
   ]
  },
  {
   "cell_type": "code",
   "execution_count": 43,
   "metadata": {},
   "outputs": [],
   "source": [
    "def favg():\n",
    "    c=0\n",
    "    a=int(input(\"enter start\"))\n",
    "    b=int(input(\"enter end\"))\n",
    "    for i in range(a,b):\n",
    "        c=c+factorial(i)\n",
    "    c=int(c/(b-a))\n",
    "    print(c)"
   ]
  },
  {
   "cell_type": "code",
   "execution_count": 45,
   "metadata": {},
   "outputs": [
    {
     "name": "stdout",
     "output_type": "stream",
     "text": [
      "enter start5\n",
      "enter end10\n",
      "81816\n"
     ]
    }
   ],
   "source": [
    "favg()"
   ]
  },
  {
   "cell_type": "code",
   "execution_count": 46,
   "metadata": {},
   "outputs": [],
   "source": [
    "def mul():\n",
    "    c=int(input(\"enter mul no\"))\n",
    "    a=int(input(\"enter start\"))\n",
    "    b=int(input(\"enter end\"))\n",
    "    for i in range(a,b):\n",
    "        print(c,\" x \",i,\" = \",c*i)\n",
    "        "
   ]
  },
  {
   "cell_type": "code",
   "execution_count": 47,
   "metadata": {},
   "outputs": [
    {
     "name": "stdout",
     "output_type": "stream",
     "text": [
      "enter mul no5\n",
      "enter start5\n",
      "enter end10\n",
      "5  x  5  =  25\n",
      "5  x  6  =  30\n",
      "5  x  7  =  35\n",
      "5  x  8  =  40\n",
      "5  x  9  =  45\n"
     ]
    }
   ],
   "source": [
    "mul()"
   ]
  },
  {
   "cell_type": "code",
   "execution_count": null,
   "metadata": {},
   "outputs": [],
   "source": []
  }
 ],
 "metadata": {
  "kernelspec": {
   "display_name": "Python 3",
   "language": "python",
   "name": "python3"
  },
  "language_info": {
   "codemirror_mode": {
    "name": "ipython",
    "version": 3
   },
   "file_extension": ".py",
   "mimetype": "text/x-python",
   "name": "python",
   "nbconvert_exporter": "python",
   "pygments_lexer": "ipython3",
   "version": "3.7.3"
  }
 },
 "nbformat": 4,
 "nbformat_minor": 2
}
